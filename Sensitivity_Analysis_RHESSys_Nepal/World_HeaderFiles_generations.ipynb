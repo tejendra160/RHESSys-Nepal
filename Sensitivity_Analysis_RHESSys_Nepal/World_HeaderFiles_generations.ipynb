{
 "cells": [
  {
   "cell_type": "code",
   "execution_count": null,
   "id": "a6ccb891-b15e-430f-b772-7f46c7fbaf5a",
   "metadata": {},
   "outputs": [],
   "source": [
    "import os\n",
    "\n",
    "BASE_DIR = \"/scratch/hjh7hp/Watershed_22_2025_fall/Watershed22_with_new_summer/Sharadha_khola_watershed/1976_SA_1/salyan/model\"\n",
    "SA_DEFS_PARENT = os.path.join(BASE_DIR, \"SA_defs_morris\")\n",
    "WORLDFILES_DIR = os.path.join(BASE_DIR, \"worldfiles\")\n",
    "os.makedirs(WORLDFILES_DIR, exist_ok=True)\n",
    "\n",
    "WORLD_HEADER_TEMPLATE = [\n",
    "    \"1 num_basin_files\\n\",\n",
    "    \"SA_defs_morris/defs{num}/basin_basin.def basin_default_filename\\n\",\n",
    "    \"1 num_hillslope_files\\n\",\n",
    "    \"SA_defs_morris/defs{num}/hill_setting1.def hillslope_default_filename\\n\",\n",
    "    \"1 num_zone_files\\n\",\n",
    "    \"SA_defs_morris/defs{num}/zone_setting2010.def zone_default_filename\\n\",\n",
    "    \"5 num_patch_files\\n\",\n",
    "    \"SA_defs_morris/defs{num}/soil_loam_9.def patch_default_filename\\n\",\n",
    "    \"SA_defs_morris/defs{num}/soil_sand_10.def patch_default_filename\\n\",\n",
    "    \"SA_defs_morris/defs{num}/soil_sandy_loam_12.def patch_default_filename\\n\",\n",
    "    \"SA_defs_morris/defs{num}/soil_silt_loam_8.def patch_default_filename\\n\",\n",
    "    \"SA_defs_morris/defs{num}/soil_silty_clay_loam_3.def patch_default_filename\\n\",\n",
    "    \"1 num_landuse_files\\n\",\n",
    "    \"SA_defs_morris/defs{num}/landuse_setting5.def landuse_default_filename\\n\",\n",
    "    \"8 num_stratum_files\\n\",\n",
    "    \"SA_defs_morris/defs{num}/stratum_localdeciduous.def stratum_default_filename\\n\",\n",
    "    \"SA_defs_morris/defs{num}/stratum_evergreen.def stratum_default_filename\\n\",\n",
    "    \"SA_defs_morris/defs{num}/stratum_crop.def stratum_default_filename\\n\",\n",
    "    \"SA_defs_morris/defs{num}/stratum_cwt_rhododendron_bgc.def stratum_default_filename\\n\",\n",
    "    \"SA_defs_morris/defs{num}/stratum_deciduous.def stratum_default_filename\\n\",\n",
    "    \"SA_defs_morris/defs{num}/stratum_eastern_white_pine.def stratum_default_filename\\n\",\n",
    "    \"SA_defs_morris/defs{num}/stratum_grass.def stratum_default_filename\\n\",\n",
    "    \"SA_defs_morris/defs{num}/stratum_shrub.def stratum_default_filename\\n\",\n",
    "    \"1 num_base_stations\\n\",\n",
    "    \"clim/W22 base_station_filename\\n\"\n",
    "]\n",
    "\n",
    "def create_worldfiles(num_files):\n",
    "    os.makedirs(WORLDFILES_DIR, exist_ok=True)\n",
    "    for i in range(1, num_files + 1):\n",
    "        worldfile_name = f\"worldfile{i}.hdr\"\n",
    "        worldfile_path = os.path.join(WORLDFILES_DIR, worldfile_name)\n",
    "        with open(worldfile_path, 'w') as wf:\n",
    "            for line in WORLD_HEADER_TEMPLATE:\n",
    "                wf.write(line.format(num=i))\n",
    "    print(f\"Generated {num_files} worldfile.hdr files in {WORLDFILES_DIR}\")\n",
    "\n",
    "if __name__ == \"__main__\":\n",
    "    create_worldfiles(NUM_DEFS_FOLDERS)\n"
   ]
  }
 ],
 "metadata": {
  "kernelspec": {
   "display_name": "Python 3",
   "language": "python",
   "name": "python3"
  },
  "language_info": {
   "codemirror_mode": {
    "name": "ipython",
    "version": 3
   },
   "file_extension": ".py",
   "mimetype": "text/x-python",
   "name": "python",
   "nbconvert_exporter": "python",
   "pygments_lexer": "ipython3",
   "version": "3.11.6"
  }
 },
 "nbformat": 4,
 "nbformat_minor": 5
}
