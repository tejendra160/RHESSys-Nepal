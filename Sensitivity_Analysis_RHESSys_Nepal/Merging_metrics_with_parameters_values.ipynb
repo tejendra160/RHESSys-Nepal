{
 "cells": [
  {
   "cell_type": "code",
   "execution_count": null,
   "id": "f4696430-cf84-4839-ae3a-75b8e8304868",
   "metadata": {},
   "outputs": [],
   "source": [
    "import os\n",
    "import pandas as pd\n",
    "\n",
    "# === CONFIGURATION ===\n",
    "BASE_DIR = \"/scratch/hjh7hp/Watershed_22_2025_fall/Watershed22_with_new_summer/Sharadha_khola_watershed/1976_SA_1/salyan/model\"\n",
    "OBJECTIVE_FUNC_CSV = os.path.join(BASE_DIR, \"objective_function_result.csv\")\n",
    "DEFS_PARAM_CSV = os.path.join(BASE_DIR, \"defs_parameter_mapping.csv\")\n",
    "OUTPUT_CSV = os.path.join(BASE_DIR, \"All_Parameters_with_Objective_functions.csv\")\n",
    "\n",
    "# Load CSVs\n",
    "obj_df = pd.read_csv(OBJECTIVE_FUNC_CSV)\n",
    "defs_df = pd.read_csv(DEFS_PARAM_CSV)\n",
    "\n",
    "# Ensure key columns exist and match\n",
    "if \"defs\" not in obj_df.columns:\n",
    "    raise ValueError(\"'defs' column not found in objective function CSV!\")\n",
    "if \"defs_set\" not in defs_df.columns:\n",
    "    raise ValueError(\"'defs_set' column not found in defs parameter mapping CSV!\")\n",
    "\n",
    "# Merge on the corresponding columns\n",
    "merged_df = pd.merge(obj_df, defs_df, left_on=\"defs\", right_on=\"defs_set\", how=\"inner\")\n",
    "\n",
    "# Optionally, drop the duplicate 'defs_set' column if not needed:\n",
    "merged_df = merged_df.drop(columns=[\"defs_set\"])\n",
    "\n",
    "# Save new CSV\n",
    "merged_df.to_csv(OUTPUT_CSV, index=False)\n",
    "print(f\"Merged table written to: {OUTPUT_CSV}\")\n"
   ]
  }
 ],
 "metadata": {
  "kernelspec": {
   "display_name": "Python 3",
   "language": "python",
   "name": "python3"
  },
  "language_info": {
   "codemirror_mode": {
    "name": "ipython",
    "version": 3
   },
   "file_extension": ".py",
   "mimetype": "text/x-python",
   "name": "python",
   "nbconvert_exporter": "python",
   "pygments_lexer": "ipython3",
   "version": "3.11.6"
  }
 },
 "nbformat": 4,
 "nbformat_minor": 5
}
